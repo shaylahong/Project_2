{
 "cells": [
  {
   "cell_type": "code",
   "execution_count": 2,
   "metadata": {},
   "outputs": [],
   "source": [
    "import psycopg2\n",
    "import pandas as pd "
   ]
  },
  {
   "cell_type": "code",
   "execution_count": 3,
   "metadata": {},
   "outputs": [],
   "source": [
    "con = psycopg2.connect(database = 'crowdfunding_db',\n",
    "                        user = 'postgres',\n",
    "                        password ='postgres',\n",
    "                        host= 'localhost',\n",
    "                        port= '5432')\n"
   ]
  },
  {
   "cell_type": "code",
   "execution_count": 4,
   "metadata": {},
   "outputs": [
    {
     "name": "stdout",
     "output_type": "stream",
     "text": [
      "      0             1\n",
      "0  cat1          food\n",
      "1  cat2         music\n",
      "2  cat3    technology\n",
      "3  cat4       theater\n",
      "4  cat5  film & video\n",
      "5  cat6    publishing\n",
      "6  cat7         games\n",
      "7  cat8   photography\n",
      "8  cat9    journalism\n"
     ]
    }
   ],
   "source": [
    "cursor_obj = con.cursor()\n",
    "cursor_obj.execute('SELECT * FROM category')\n",
    "result = cursor_obj.fetchall()\n",
    "results = pd.DataFrame(result)\n",
    "\n",
    "\n",
    "\n",
    "print(results)"
   ]
  },
  {
   "cell_type": "code",
   "execution_count": 5,
   "metadata": {},
   "outputs": [
    {
     "name": "stdout",
     "output_type": "stream",
     "text": [
      "           0                  1\n",
      "0    subcat1        food trucks\n",
      "1    subcat2               rock\n",
      "2    subcat3                web\n",
      "3    subcat4              plays\n",
      "4    subcat5        documentary\n",
      "5    subcat6     electric music\n",
      "6    subcat7              drama\n",
      "7    subcat8         indie rock\n",
      "8    subcat9          wearables\n",
      "9   subcat10         nonfiction\n",
      "10  subcat11          animation\n",
      "11  subcat12        video games\n",
      "12  subcat13             shorts\n",
      "13  subcat14            fiction\n",
      "14  subcat15  photography books\n",
      "15  subcat16   radio & podcasts\n",
      "16  subcat17              metal\n",
      "17  subcat18               jazz\n",
      "18  subcat19       translations\n",
      "19  subcat20         television\n",
      "20  subcat21       mobile games\n",
      "21  subcat22        world music\n",
      "22  subcat23    science fiction\n",
      "23  subcat24              audio\n"
     ]
    }
   ],
   "source": [
    "cursor_obj = con.cursor()\n",
    "cursor_obj.execute('SELECT * from subcategory')\n",
    "result = cursor_obj.fetchall()\n",
    "results = pd.DataFrame(result)\n",
    "\n",
    "\n",
    "\n",
    "print(results)"
   ]
  },
  {
   "cell_type": "code",
   "execution_count": 7,
   "metadata": {},
   "outputs": [
    {
     "name": "stdout",
     "output_type": "stream",
     "text": [
      "       0     1                             2   \\\n",
      "0     147  4661    Baldwin, Riley and Jackson   \n",
      "1    1621  3765                      Odom Inc   \n",
      "2    1812  4187    Melton, Robinson and Fritz   \n",
      "3    2156  4941   Mcdonald, Gonzalez and Ross   \n",
      "4    1365  2199                 Larson-Little   \n",
      "..    ...   ...                           ...   \n",
      "995  2986  3684              Manning-Hamilton   \n",
      "996  2031  5784                    Butler LLC   \n",
      "997  1627  1498                      Ball LLC   \n",
      "998  2175  6073   Taylor, Santiago and Flores   \n",
      "999  1788  4939  Hernandez, Norton and Kelley   \n",
      "\n",
      "                                                3       4       5   \\\n",
      "0             Pre-emptive tertiary standardization     100       0   \n",
      "1                 Managed bottom-line architecture    1400   14560   \n",
      "2     Function-based leadingedge pricing structure  108400  142523   \n",
      "3    Vision-oriented fresh-thinking conglomeration    4200    2477   \n",
      "4                        Proactive foreground core    7600    5265   \n",
      "..                                             ...     ...     ...   \n",
      "995            Vision-oriented scalable definition   97300  153216   \n",
      "996       Future-proofed upward-trending migration    6600    4814   \n",
      "997              Right-sized full-range throughput    7600    4603   \n",
      "998           Polarized composite customer loyalty   66600   37823   \n",
      "999                    Expanded eco-centric policy  111100   62819   \n",
      "\n",
      "             6     7   8    9           10          11    12       13  \n",
      "0        failed     0  CA  CAD  2020-02-13  2021-03-01  cat1  subcat1  \n",
      "1    successful   158  US  USD  2021-01-25  2021-05-25  cat2  subcat2  \n",
      "2    successful  1425  AU  AUD  2020-12-17  2021-12-30  cat3  subcat3  \n",
      "3        failed    24  US  USD  2021-10-21  2022-01-17  cat2  subcat2  \n",
      "4        failed    53  US  USD  2020-12-21  2021-08-23  cat4  subcat4  \n",
      "..          ...   ...  ..  ...         ...         ...   ...      ...  \n",
      "995  successful  2043  US  USD  2020-12-29  2021-05-30  cat1  subcat1  \n",
      "996      failed   112  US  USD  2021-10-15  2021-11-30  cat4  subcat4  \n",
      "997    canceled   139  IT  EUR  2021-11-06  2021-12-10  cat4  subcat4  \n",
      "998      failed   374  US  USD  2020-10-08  2021-04-11  cat2  subcat8  \n",
      "999    canceled  1122  US  USD  2020-12-30  2021-08-18  cat1  subcat1  \n",
      "\n",
      "[1000 rows x 14 columns]\n"
     ]
    }
   ],
   "source": [
    "cursor_obj = con.cursor()\n",
    "cursor_obj.execute('SELECT * from campaign')\n",
    "result = cursor_obj.fetchall()\n",
    "results = pd.DataFrame(result)\n",
    "\n",
    "\n",
    "\n",
    "print(results)"
   ]
  },
  {
   "cell_type": "code",
   "execution_count": 6,
   "metadata": {},
   "outputs": [
    {
     "name": "stdout",
     "output_type": "stream",
     "text": [
      "        0             1           2                                          3\n",
      "0    4661       Cecilia     Velasco               cecilia.velasco@rodrigues.fr\n",
      "1    3765       Mariana       Ellis                    mariana.ellis@rossi.org\n",
      "2    4187         Sofie       Woods                    sofie.woods@riviere.com\n",
      "3    4941      Jeanette    Iannotti                jeanette.iannotti@yahoo.com\n",
      "4    2199        Samuel     Sorgatz                   samuel.sorgatz@gmail.com\n",
      "..    ...           ...         ...                                        ...\n",
      "995  3684       Whitney       Noack             whitney.noack@laboratorios.org\n",
      "996  5784     Gelsomina  Migliaccio              gelsomina.migliaccio@junk.com\n",
      "997  1498   Evangelista     Pereira  evangelista.pereira@thompson-peterson.biz\n",
      "998  6073        Gareth     Comolli                  gareth.comolli@tiscali.fr\n",
      "999  4939  Michelangelo        Hess              michelangelo.hess@bouygtel.fr\n",
      "\n",
      "[1000 rows x 4 columns]\n"
     ]
    }
   ],
   "source": [
    "cursor_obj = con.cursor()\n",
    "cursor_obj.execute('SELECT * from contacts')\n",
    "result = cursor_obj.fetchall()\n",
    "results = pd.DataFrame(result)\n",
    "\n",
    "\n",
    "\n",
    "print(results)"
   ]
  }
 ],
 "metadata": {
  "kernelspec": {
   "display_name": "env",
   "language": "python",
   "name": "python3"
  },
  "language_info": {
   "codemirror_mode": {
    "name": "ipython",
    "version": 3
   },
   "file_extension": ".py",
   "mimetype": "text/x-python",
   "name": "python",
   "nbconvert_exporter": "python",
   "pygments_lexer": "ipython3",
   "version": "3.11.4"
  },
  "orig_nbformat": 4
 },
 "nbformat": 4,
 "nbformat_minor": 2
}
